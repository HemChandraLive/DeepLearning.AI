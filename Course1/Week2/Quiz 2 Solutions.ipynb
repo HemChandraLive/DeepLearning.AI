{
 "cells": [
  {
   "cell_type": "code",
   "execution_count": 41,
   "metadata": {},
   "outputs": [],
   "source": [
    "#library\n",
    "import numpy as np"
   ]
  },
  {
   "cell_type": "markdown",
   "metadata": {},
   "source": [
    "# Week 2"
   ]
  },
  {
   "cell_type": "markdown",
   "metadata": {},
   "source": [
    "# Valid\n",
    "a=np.random.randn(x,y)\n",
    "b=np.random.randn(m,n)\n",
    "\n",
    "\n",
    "Either (x==m) or (y==n) or (x==m and y==n)"
   ]
  },
  {
   "cell_type": "code",
   "execution_count": 17,
   "metadata": {},
   "outputs": [
    {
     "name": "stdout",
     "output_type": "stream",
     "text": [
      "[[-0.69650687  0.18436641  0.73298928]\n",
      " [ 0.17757935 -0.72994348  1.16332026]\n",
      " [ 0.00457253 -0.24373292  0.95254357]\n",
      " [ 1.23530726 -0.51251347  0.23758984]]\n",
      "[[ 0.10900069  0.90332741 -0.05965927]]\n"
     ]
    }
   ],
   "source": [
    "a=np.random.randn(4,3)\n",
    "print(a)\n",
    "b=np.random.randn(1,3)\n",
    "print(b)"
   ]
  },
  {
   "cell_type": "code",
   "execution_count": 19,
   "metadata": {},
   "outputs": [
    {
     "name": "stdout",
     "output_type": "stream",
     "text": [
      "[[-0.9460686   0.19922777  0.60187995]\n",
      " [ 0.58826342  2.6305495   0.33693522]\n",
      " [ 1.4404953   0.82164868 -0.71494922]\n",
      " [-2.46082069 -1.63853435  1.67161391]]\n",
      "[[ 1.46518627]\n",
      " [ 0.37719531]\n",
      " [-0.97253299]\n",
      " [-0.20787268]]\n"
     ]
    }
   ],
   "source": [
    "a=np.random.randn(4,3)\n",
    "print(a)\n",
    "b=np.random.randn(4,1)\n",
    "print(b)"
   ]
  },
  {
   "cell_type": "markdown",
   "metadata": {},
   "source": [
    "# Invalid"
   ]
  },
  {
   "cell_type": "code",
   "execution_count": 21,
   "metadata": {},
   "outputs": [
    {
     "name": "stdout",
     "output_type": "stream",
     "text": [
      "[[-1.04171822 -1.79283083  0.04393663]\n",
      " [ 0.06330726 -0.33175611  0.59291094]\n",
      " [-0.14309163  0.56881609  0.11275846]\n",
      " [ 2.72556411 -0.1496551   0.22684698]]\n",
      "[[-0.16961219  0.09031098]]\n"
     ]
    },
    {
     "ename": "ValueError",
     "evalue": "operands could not be broadcast together with shapes (4,3) (1,2) ",
     "output_type": "error",
     "traceback": [
      "\u001b[1;31m---------------------------------------------------------------------------\u001b[0m",
      "\u001b[1;31mValueError\u001b[0m                                Traceback (most recent call last)",
      "\u001b[1;32m<ipython-input-21-3bdfd1accf19>\u001b[0m in \u001b[0;36m<module>\u001b[1;34m\u001b[0m\n\u001b[0;32m      4\u001b[0m \u001b[0mb\u001b[0m\u001b[1;33m=\u001b[0m\u001b[0mnp\u001b[0m\u001b[1;33m.\u001b[0m\u001b[0mrandom\u001b[0m\u001b[1;33m.\u001b[0m\u001b[0mrandn\u001b[0m\u001b[1;33m(\u001b[0m\u001b[1;36m1\u001b[0m\u001b[1;33m,\u001b[0m\u001b[1;36m2\u001b[0m\u001b[1;33m)\u001b[0m\u001b[1;33m\u001b[0m\u001b[1;33m\u001b[0m\u001b[0m\n\u001b[0;32m      5\u001b[0m \u001b[0mprint\u001b[0m\u001b[1;33m(\u001b[0m\u001b[0mb\u001b[0m\u001b[1;33m)\u001b[0m\u001b[1;33m\u001b[0m\u001b[1;33m\u001b[0m\u001b[0m\n\u001b[1;32m----> 6\u001b[1;33m \u001b[0ma\u001b[0m\u001b[1;33m*\u001b[0m\u001b[0mb\u001b[0m\u001b[1;33m\u001b[0m\u001b[1;33m\u001b[0m\u001b[0m\n\u001b[0m",
      "\u001b[1;31mValueError\u001b[0m: operands could not be broadcast together with shapes (4,3) (1,2) "
     ]
    }
   ],
   "source": [
    "#Invalid\n",
    "a=np.random.randn(4,3)\n",
    "print(a)\n",
    "b=np.random.randn(1,2)\n",
    "print(b)\n",
    "a*b"
   ]
  },
  {
   "cell_type": "code",
   "execution_count": 29,
   "metadata": {},
   "outputs": [
    {
     "name": "stdout",
     "output_type": "stream",
     "text": [
      "[[1.07433459 1.24949239 0.59078818 0.96927135]\n",
      " [1.51534389 1.01042753 0.74554381 1.42466218]\n",
      " [1.01511171 1.1000548  0.39036869 1.71861116]]\n"
     ]
    }
   ],
   "source": [
    "# a.shape = (3,4)\n",
    "# b.shape = (4,1)\n",
    "\n",
    "\n",
    "a=np.random.rand(3,4)\n",
    "b=np.random.rand(4)\n",
    "c=np.ones((3,4))\n",
    "\n",
    "for i in range(3):\n",
    "    for j in range(4):\n",
    "        c[i][j] = a[i][j] + b[j]\n",
    "print(c)"
   ]
  },
  {
   "cell_type": "markdown",
   "metadata": {},
   "source": [
    "Question:\n",
    "a = np.random.randn(3, 3)\n",
    "b = np.random.randn(3, 1)\n",
    "c = a*b"
   ]
  },
  {
   "cell_type": "code",
   "execution_count": 40,
   "metadata": {},
   "outputs": [
    {
     "name": "stdout",
     "output_type": "stream",
     "text": [
      "[[-0.61340965 -1.05485647  0.33089931]\n",
      " [ 0.40264363  0.49728603 -0.60185132]\n",
      " [ 0.506952   -0.70628948  0.33711685]]\n",
      "\n",
      "[[-0.27591101]\n",
      " [-3.4230555 ]\n",
      " [ 1.53337162]]\n",
      "\n",
      "[[ 0.16924648  0.29104652 -0.09129876]\n",
      " [-1.37827149 -1.70223766  2.06017048]\n",
      " [ 0.77734582 -1.08300425  0.5169254 ]]\n"
     ]
    }
   ],
   "source": [
    "#Matrix multiplication operation occur\n",
    "\n",
    "a = np.random.randn(3, 3)\n",
    "print(a);print()\n",
    "b = np.random.randn(3, 1)\n",
    "print(b);print()\n",
    "c = a*b\n",
    "print(c)"
   ]
  },
  {
   "cell_type": "markdown",
   "metadata": {},
   "source": [
    "# Week 3"
   ]
  },
  {
   "cell_type": "code",
   "execution_count": 63,
   "metadata": {},
   "outputs": [
    {
     "name": "stdout",
     "output_type": "stream",
     "text": [
      "[[7]\n",
      " [2]\n",
      " [2]]\n"
     ]
    },
    {
     "data": {
      "text/plain": [
       "(3, 1)"
      ]
     },
     "execution_count": 63,
     "metadata": {},
     "output_type": "execute_result"
    }
   ],
   "source": [
    "A =np.random.randint(10,size=(3,1))\n",
    "print(A)\n",
    "B = np.sum(A, axis = 1, keepdims = True)\n",
    "B.shape"
   ]
  },
  {
   "cell_type": "code",
   "execution_count": 64,
   "metadata": {},
   "outputs": [
    {
     "data": {
      "text/plain": [
       "array([[7],\n",
       "       [2],\n",
       "       [2]])"
      ]
     },
     "execution_count": 64,
     "metadata": {},
     "output_type": "execute_result"
    }
   ],
   "source": [
    "B"
   ]
  },
  {
   "cell_type": "code",
   "execution_count": null,
   "metadata": {},
   "outputs": [],
   "source": []
  }
 ],
 "metadata": {
  "kernelspec": {
   "display_name": "Python 3",
   "language": "python",
   "name": "python3"
  },
  "language_info": {
   "codemirror_mode": {
    "name": "ipython",
    "version": 3
   },
   "file_extension": ".py",
   "mimetype": "text/x-python",
   "name": "python",
   "nbconvert_exporter": "python",
   "pygments_lexer": "ipython3",
   "version": "3.7.4"
  }
 },
 "nbformat": 4,
 "nbformat_minor": 2
}
